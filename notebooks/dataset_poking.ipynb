{
 "cells": [
  {
   "cell_type": "code",
   "execution_count": 1,
   "metadata": {},
   "outputs": [
    {
     "name": "stderr",
     "output_type": "stream",
     "text": [
      "/mnt/ssd-1/adam/miniconda3/lib/python3.11/site-packages/tqdm/auto.py:21: TqdmWarning: IProgress not found. Please update jupyter and ipywidgets. See https://ipywidgets.readthedocs.io/en/stable/user_install.html\n",
      "  from .autonotebook import tqdm as notebook_tqdm\n"
     ]
    }
   ],
   "source": [
    "from oleace.utils.concept import *\n",
    "import numpy as np\n",
    "from datasets import load_dataset, concatenate_datasets, ClassLabel\n",
    "from importlib import reload\n",
    "\n",
    "from oleace.datasets import hans\n",
    "HANSDataset = hans.HANSDataset\n",
    "\n",
    "from collections import Counter\n",
    "\n",
    "from pathlib import Path"
   ]
  },
  {
   "cell_type": "code",
   "execution_count": null,
   "metadata": {},
   "outputs": [],
   "source": [
    "!pip install -e ."
   ]
  },
  {
   "cell_type": "code",
   "execution_count": 2,
   "metadata": {},
   "outputs": [
    {
     "name": "stderr",
     "output_type": "stream",
     "text": [
      "Downloading readme: 100%|██████████| 8.89k/8.89k [00:00<00:00, 40.8MB/s]\n",
      "Downloading data: 100%|██████████| 214M/214M [00:12<00:00, 16.6MB/s] \n",
      "Downloading data: 100%|██████████| 4.94M/4.94M [00:00<00:00, 13.4MB/s]\n",
      "Downloading data: 100%|██████████| 5.10M/5.10M [00:00<00:00, 16.5MB/s]\n",
      "Generating train split: 100%|██████████| 392702/392702 [00:00<00:00, 531673.96 examples/s]\n",
      "Generating validation_matched split: 100%|██████████| 9815/9815 [00:00<00:00, 539196.24 examples/s]\n",
      "Generating validation_mismatched split: 100%|██████████| 9832/9832 [00:00<00:00, 635933.77 examples/s]\n",
      "tokenizer_config.json: 100%|██████████| 28.0/28.0 [00:00<00:00, 193kB/s]\n",
      "config.json: 100%|██████████| 570/570 [00:00<00:00, 4.52MB/s]\n",
      "vocab.txt: 100%|██████████| 232k/232k [00:00<00:00, 3.94MB/s]\n",
      "tokenizer.json: 100%|██████████| 466k/466k [00:00<00:00, 12.9MB/s]\n",
      "Map: 100%|██████████| 392702/392702 [00:33<00:00, 11860.88 examples/s]\n",
      "                                                                                                     \r"
     ]
    }
   ],
   "source": [
    "# Get the MNLI dataset and tokenize it\n",
    "mnli_dataset = load_dataset(\"multi_nli\", split=\"train\")\n",
    "mnli_dataset = tokenize_mnli(mnli_dataset)\n",
    "\n",
    "concept_detectors = {\n",
    "    \"constituent\": is_constituent,\n",
    "    \"lexical_overlap\": is_lexical_overlap,\n",
    "    \"subsequence\": is_subsequence,\n",
    "}\n",
    "\n",
    "# Make a list of indices for each concept\n",
    "concept_indices: dict[str, list[int]] = defaultdict(list)\n",
    "for idx, example_data in enumerate(\n",
    "    tqdm(\n",
    "        mnli_dataset,\n",
    "        desc=\"Assigning concepts to MNLI examples\",\n",
    "        unit=\" examples\",\n",
    "        leave=False,\n",
    "    )\n",
    "):\n",
    "    no_concept_assigned = True\n",
    "    for concept, detector in concept_detectors.items():\n",
    "        if detector(example_data):\n",
    "            concept_indices[concept].append(idx)\n",
    "            no_concept_assigned = False\n",
    "    if no_concept_assigned:\n",
    "        concept_indices[\"negative\"].append(idx)"
   ]
  },
  {
   "cell_type": "code",
   "execution_count": 3,
   "metadata": {},
   "outputs": [
    {
     "name": "stdout",
     "output_type": "stream",
     "text": [
      "negative\n"
     ]
    },
    {
     "name": "stderr",
     "output_type": "stream",
     "text": [
      "100%|██████████| 389745/389745 [01:08<00:00, 5659.81it/s]\n"
     ]
    },
    {
     "name": "stdout",
     "output_type": "stream",
     "text": [
      "[128241 130795 130709]\n",
      "lexical_overlap\n"
     ]
    },
    {
     "name": "stderr",
     "output_type": "stream",
     "text": [
      "100%|██████████| 2419/2419 [00:00<00:00, 5509.20it/s]\n"
     ]
    },
    {
     "name": "stdout",
     "output_type": "stream",
     "text": [
      "[2158   82  179]\n",
      "subsequence\n"
     ]
    },
    {
     "name": "stderr",
     "output_type": "stream",
     "text": [
      "100%|██████████| 1346/1346 [00:00<00:00, 5563.00it/s]\n"
     ]
    },
    {
     "name": "stdout",
     "output_type": "stream",
     "text": [
      "[1274   39   33]\n",
      "constituent\n"
     ]
    },
    {
     "name": "stderr",
     "output_type": "stream",
     "text": [
      "100%|██████████| 1062/1062 [00:00<00:00, 5644.91it/s]"
     ]
    },
    {
     "name": "stdout",
     "output_type": "stream",
     "text": [
      "[1004   36   22]\n"
     ]
    },
    {
     "name": "stderr",
     "output_type": "stream",
     "text": [
      "\n"
     ]
    }
   ],
   "source": [
    "for key in concept_indices:\n",
    "    idc = concept_indices[key]\n",
    "    print(key)\n",
    "    labs = [mnli_dataset[i]['label'] for i in tqdm(idc)]\n",
    "    print(np.bincount(labs))"
   ]
  },
  {
   "cell_type": "code",
   "execution_count": 13,
   "metadata": {},
   "outputs": [
    {
     "name": "stderr",
     "output_type": "stream",
     "text": [
      "Processing HANS dataset:   0%|          | 0/30000 [00:00<?, ?examples/s]"
     ]
    },
    {
     "name": "stderr",
     "output_type": "stream",
     "text": [
      "                                                                                      \r"
     ]
    }
   ],
   "source": [
    "hans_train = HANSDataset(split=\"train\", data_dir=Path.cwd() / \"data/hans\")"
   ]
  },
  {
   "cell_type": "code",
   "execution_count": 21,
   "metadata": {},
   "outputs": [
    {
     "name": "stdout",
     "output_type": "stream",
     "text": [
      "(1, 'lexical_overlap'): 5000\n",
      "(0, 'lexical_overlap'): 5000\n",
      "(1, 'subsequence'): 5000\n",
      "(0, 'subsequence'): 5000\n",
      "(1, 'constituent'): 5000\n",
      "(0, 'constituent'): 5000\n"
     ]
    }
   ],
   "source": [
    "label_counts = Counter()\n",
    "for example in hans_train:\n",
    "    label = (example['labels'], example['heuristic'])\n",
    "    label_counts[label] += 1\n",
    "\n",
    "for label, count in label_counts.items():\n",
    "    print(f\"{label}: {count}\")\n"
   ]
  },
  {
   "cell_type": "code",
   "execution_count": 76,
   "metadata": {},
   "outputs": [
    {
     "data": {
      "text/plain": [
       "{'premise': 'The doctors supported the scientist .',\n",
       " 'hypothesis': 'The scientist supported the doctors .',\n",
       " 'label': 1,\n",
       " 'parse_premise': '(ROOT (S (NP (DT The) (NNS doctors)) (VP (VBD supported) (NP (DT the) (NN scientist))) (. .)))',\n",
       " 'parse_hypothesis': '(ROOT (S (NP (DT The) (NN scientist)) (VP (VBD supported) (NP (DT the) (NNS doctors))) (. .)))',\n",
       " 'binary_parse_premise': '( ( The doctors ) ( ( supported ( the scientist ) ) . ) )',\n",
       " 'binary_parse_hypothesis': '( ( The scientist ) ( ( supported ( the doctors ) ) . ) )',\n",
       " 'heuristic': 'lexical_overlap',\n",
       " 'subcase': 'ln_subject/object_swap',\n",
       " 'template': 'temp1'}"
      ]
     },
     "execution_count": 76,
     "metadata": {},
     "output_type": "execute_result"
    }
   ],
   "source": [
    "hans_train_dataset[0]"
   ]
  },
  {
   "cell_type": "code",
   "execution_count": null,
   "metadata": {},
   "outputs": [],
   "source": [
    "# Prepare HANS dataset\n",
    "hans_train_dataset = load_dataset(\"hans\", split=\"train\")\n",
    "hans_val_dataset = load_dataset(\"hans\", split=\"validation\")\n",
    "\n",
    "# Prepare MNLI dataset\n",
    "mnli_train_dataset = load_dataset(\"multi_nli\", split=\"train\")\n",
    "mnli_val_dataset = load_dataset(\"multi_nli\", split=\"validation_matched\")\n",
    "\n",
    "# Tokenize HANS dataset\n",
    "hans_train_dataset = tokenize_mnli(hans_train_dataset)\n",
    "hans_val_dataset = tokenize_mnli(hans_val_dataset)\n",
    "\n",
    "# Tokenize MNLI dataset\n",
    "mnli_train_dataset = tokenize_mnli(mnli_train_dataset)\n",
    "mnli_val_dataset = tokenize_mnli(mnli_val_dataset)\n",
    "\n",
    "dataset = \"hansmnli\"\n",
    "\n",
    "match dataset:\n",
    "    case \"mnli\":\n",
    "        train_dataset = mnli_train_dataset\n",
    "        val_dataset = mnli_val_dataset\n",
    "    case \"hansmnli\":\n",
    "        # shuffle HANS\n",
    "        hans_train_dataset = hans_train_dataset.shuffle(seed=42)\n",
    "        hans_val_dataset = hans_val_dataset.shuffle(seed=42)\n",
    "        # get first third of HANS examples with label 1\n",
    "        hans_train_noentail = hans_train_dataset.filter(lambda example: example[\"label\"] == 1)\n",
    "        hans_val_noentail = hans_val_dataset.filter(lambda example: example[\"label\"] == 1)\n",
    "        hans_train_noentail = hans_train_noentail.select(range(len(hans_train_noentail) // 3))\n",
    "        hans_val_noentail = hans_val_noentail.select(range(len(hans_val_noentail) // 3))\n",
    "        # get all HANS examples with label 0\n",
    "        hans_train_entail = hans_train_dataset.filter(lambda example: example[\"label\"] == 0)\n",
    "        hans_val_entail = hans_val_dataset.filter(lambda example: example[\"label\"] == 0)\n",
    "        # concatenate HANS examples\n",
    "        hans_train_dataset = concatenate_datasets([hans_train_noentail, hans_train_entail])\n",
    "        hans_val_dataset = concatenate_datasets([hans_val_noentail, hans_val_entail])\n",
    "\n",
    "        # train: cut down MNLI to match HANS\n",
    "        mnli_train_dataset = mnli_train_dataset.shuffle(seed=42)\n",
    "        mnli_train_dataset = mnli_train_dataset.select(range(len(hans_train_dataset)))\n",
    "        # take MNLI examples with no applicable heuristic\n",
    "        mnli_train_dataset = mnli_train_dataset.filter(no_heuristic)\n",
    "        mnli_val_dataset = mnli_val_dataset.filter(no_heuristic)\n",
    "        # val: cut down HANS to match MNLI\n",
    "        hans_val_dataset = hans_val_dataset.shuffle(seed=42)\n",
    "        hans_val_dataset = hans_val_dataset.select(range(len(mnli_val_dataset)))\n",
    "\n",
    "\n",
    "        # rename HANS 'binary_parse_premise' to 'premise_binary_parse'\n",
    "        # and 'binary_parse_hypothesis' to 'hypothesis_binary_parse'\n",
    "        hans_train_dataset = hans_train_dataset.rename_column(\"binary_parse_premise\", \"premise_binary_parse\")\n",
    "        hans_train_dataset = hans_train_dataset.rename_column(\"binary_parse_hypothesis\", \"hypothesis_binary_parse\")\n",
    "        hans_val_dataset = hans_val_dataset.rename_column(\"binary_parse_premise\", \"premise_binary_parse\")\n",
    "        hans_val_dataset = hans_val_dataset.rename_column(\"binary_parse_hypothesis\", \"hypothesis_binary_parse\")\n",
    "\n",
    "\n",
    "        # relabel MNLI 'label' 1 and 2 both to 1\n",
    "        mnli_train_dataset = mnli_train_dataset.map(lambda example: {\"label\": 1 if example[\"label\"] > 0 else 0})\n",
    "        mnli_val_dataset = mnli_val_dataset.map(lambda example: {\"label\": 1 if example[\"label\"] > 0 else 0})\n",
    "        # change MNLI 'label' from ClassLabel(names=['entailment', 'neutral', 'contradiction']) \n",
    "        # to ClassLabel(names=['entailment', 'non-entailment'])\n",
    "        mnli_features = mnli_train_dataset.features.copy()\n",
    "        mnli_features[\"label\"] = ClassLabel(names=[\"entailment\", \"non-entailment\"])\n",
    "        mnli_train_dataset = mnli_train_dataset.cast(mnli_features)\n",
    "        mnli_val_dataset = mnli_val_dataset.cast(mnli_features)\n",
    "\n",
    "        # concatenate HANS and MNLI examples\n",
    "        hans_columns = set(hans_train_dataset.column_names)\n",
    "        mnli_columns = set(mnli_train_dataset.column_names)\n",
    "        hans_only_columns = hans_columns - mnli_columns\n",
    "        mnli_only_columns = mnli_columns - hans_columns\n",
    "        hans_train_dataset = hans_train_dataset.remove_columns(list(hans_only_columns))\n",
    "        mnli_train_dataset = mnli_train_dataset.remove_columns(list(mnli_only_columns))\n",
    "        hans_val_dataset = hans_val_dataset.remove_columns(list(hans_only_columns))\n",
    "        mnli_val_dataset = mnli_val_dataset.remove_columns(list(mnli_only_columns))\n",
    "        train_dataset = concatenate_datasets([hans_train_dataset, mnli_train_dataset])\n",
    "        val_dataset = concatenate_datasets([hans_val_dataset, mnli_val_dataset])"
   ]
  },
  {
   "cell_type": "code",
   "execution_count": 10,
   "metadata": {},
   "outputs": [
    {
     "data": {
      "text/plain": [
       "{'premise': Value(dtype='string', id=None),\n",
       " 'hypothesis': Value(dtype='string', id=None),\n",
       " 'label': ClassLabel(names=['entailment', 'non-entailment'], id=None),\n",
       " 'parse_premise': Value(dtype='string', id=None),\n",
       " 'parse_hypothesis': Value(dtype='string', id=None),\n",
       " 'binary_parse_premise': Value(dtype='string', id=None),\n",
       " 'binary_parse_hypothesis': Value(dtype='string', id=None),\n",
       " 'heuristic': Value(dtype='string', id=None),\n",
       " 'subcase': Value(dtype='string', id=None),\n",
       " 'template': Value(dtype='string', id=None)}"
      ]
     },
     "execution_count": 10,
     "metadata": {},
     "output_type": "execute_result"
    }
   ],
   "source": [
    "# get MNLI column types\n",
    "load_dataset(\"hans\", split=\"train\").features"
   ]
  },
  {
   "cell_type": "code",
   "execution_count": 11,
   "metadata": {},
   "outputs": [
    {
     "data": {
      "text/plain": [
       "{'promptID': Value(dtype='int32', id=None),\n",
       " 'pairID': Value(dtype='string', id=None),\n",
       " 'premise': Value(dtype='string', id=None),\n",
       " 'premise_binary_parse': Value(dtype='string', id=None),\n",
       " 'premise_parse': Value(dtype='string', id=None),\n",
       " 'hypothesis': Value(dtype='string', id=None),\n",
       " 'hypothesis_binary_parse': Value(dtype='string', id=None),\n",
       " 'hypothesis_parse': Value(dtype='string', id=None),\n",
       " 'genre': Value(dtype='string', id=None),\n",
       " 'label': ClassLabel(names=['entailment', 'neutral', 'contradiction'], id=None)}"
      ]
     },
     "execution_count": 11,
     "metadata": {},
     "output_type": "execute_result"
    }
   ],
   "source": [
    "\n",
    "load_dataset(\"multi_nli\", split=\"train\").features"
   ]
  },
  {
   "cell_type": "code",
   "execution_count": 6,
   "metadata": {},
   "outputs": [
    {
     "data": {
      "text/plain": [
       "{'premise': Value(dtype='string', id=None),\n",
       " 'hypothesis': Value(dtype='string', id=None),\n",
       " 'label': ClassLabel(names=['entailment', 'neutral', 'contradiction'], id=None),\n",
       " 'input_ids': Sequence(feature=Value(dtype='int32', id=None), length=-1, id=None),\n",
       " 'token_type_ids': Sequence(feature=Value(dtype='int8', id=None), length=-1, id=None),\n",
       " 'attention_mask': Sequence(feature=Value(dtype='int8', id=None), length=-1, id=None)}"
      ]
     },
     "execution_count": 6,
     "metadata": {},
     "output_type": "execute_result"
    }
   ],
   "source": [
    "mnli_features = mnli_train_dataset.features.copy()\n",
    "mnli_features[\"label\"] = ClassLabel(names=[\"entailment\", \"non-entailment\"])\n",
    "mnli_train_dataset = mnli_train_dataset.cast(mnli_features)\n",
    "mnli_val_dataset = mnli_val_dataset.cast(mnli_features)"
   ]
  }
 ],
 "metadata": {
  "kernelspec": {
   "display_name": "base",
   "language": "python",
   "name": "python3"
  },
  "language_info": {
   "codemirror_mode": {
    "name": "ipython",
    "version": 3
   },
   "file_extension": ".py",
   "mimetype": "text/x-python",
   "name": "python",
   "nbconvert_exporter": "python",
   "pygments_lexer": "ipython3",
   "version": "3.11.5"
  }
 },
 "nbformat": 4,
 "nbformat_minor": 2
}
