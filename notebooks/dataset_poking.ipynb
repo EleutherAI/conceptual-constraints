{
 "cells": [
  {
   "cell_type": "code",
   "execution_count": 1,
   "metadata": {},
   "outputs": [
    {
     "name": "stderr",
     "output_type": "stream",
     "text": [
      "/mnt/ssd-1/adam/miniconda3/lib/python3.11/site-packages/tqdm/auto.py:21: TqdmWarning: IProgress not found. Please update jupyter and ipywidgets. See https://ipywidgets.readthedocs.io/en/stable/user_install.html\n",
      "  from .autonotebook import tqdm as notebook_tqdm\n"
     ]
    }
   ],
   "source": [
    "from oleace.utils.concept import *\n",
    "import numpy as np\n",
    "from datasets import load_dataset"
   ]
  },
  {
   "cell_type": "code",
   "execution_count": 2,
   "metadata": {},
   "outputs": [
    {
     "name": "stderr",
     "output_type": "stream",
     "text": [
      "Downloading readme: 100%|██████████| 8.89k/8.89k [00:00<00:00, 40.8MB/s]\n",
      "Downloading data: 100%|██████████| 214M/214M [00:12<00:00, 16.6MB/s] \n",
      "Downloading data: 100%|██████████| 4.94M/4.94M [00:00<00:00, 13.4MB/s]\n",
      "Downloading data: 100%|██████████| 5.10M/5.10M [00:00<00:00, 16.5MB/s]\n",
      "Generating train split: 100%|██████████| 392702/392702 [00:00<00:00, 531673.96 examples/s]\n",
      "Generating validation_matched split: 100%|██████████| 9815/9815 [00:00<00:00, 539196.24 examples/s]\n",
      "Generating validation_mismatched split: 100%|██████████| 9832/9832 [00:00<00:00, 635933.77 examples/s]\n",
      "tokenizer_config.json: 100%|██████████| 28.0/28.0 [00:00<00:00, 193kB/s]\n",
      "config.json: 100%|██████████| 570/570 [00:00<00:00, 4.52MB/s]\n",
      "vocab.txt: 100%|██████████| 232k/232k [00:00<00:00, 3.94MB/s]\n",
      "tokenizer.json: 100%|██████████| 466k/466k [00:00<00:00, 12.9MB/s]\n",
      "Map: 100%|██████████| 392702/392702 [00:33<00:00, 11860.88 examples/s]\n",
      "                                                                                                     \r"
     ]
    }
   ],
   "source": [
    "# Get the MNLI dataset and tokenize it\n",
    "mnli_dataset = load_dataset(\"multi_nli\", split=\"train\")\n",
    "mnli_dataset = tokenize_mnli(mnli_dataset)\n",
    "\n",
    "concept_detectors = {\n",
    "    \"constituent\": is_constituent,\n",
    "    \"lexical_overlap\": is_lexical_overlap,\n",
    "    \"subsequence\": is_subsequence,\n",
    "}\n",
    "\n",
    "# Make a list of indices for each concept\n",
    "concept_indices: dict[str, list[int]] = defaultdict(list)\n",
    "for idx, example_data in enumerate(\n",
    "    tqdm(\n",
    "        mnli_dataset,\n",
    "        desc=\"Assigning concepts to MNLI examples\",\n",
    "        unit=\" examples\",\n",
    "        leave=False,\n",
    "    )\n",
    "):\n",
    "    no_concept_assigned = True\n",
    "    for concept, detector in concept_detectors.items():\n",
    "        if detector(example_data):\n",
    "            concept_indices[concept].append(idx)\n",
    "            no_concept_assigned = False\n",
    "    if no_concept_assigned:\n",
    "        concept_indices[\"negative\"].append(idx)"
   ]
  },
  {
   "cell_type": "code",
   "execution_count": 3,
   "metadata": {},
   "outputs": [
    {
     "name": "stdout",
     "output_type": "stream",
     "text": [
      "negative\n"
     ]
    },
    {
     "name": "stderr",
     "output_type": "stream",
     "text": [
      "100%|██████████| 389745/389745 [01:08<00:00, 5659.81it/s]\n"
     ]
    },
    {
     "name": "stdout",
     "output_type": "stream",
     "text": [
      "[128241 130795 130709]\n",
      "lexical_overlap\n"
     ]
    },
    {
     "name": "stderr",
     "output_type": "stream",
     "text": [
      "100%|██████████| 2419/2419 [00:00<00:00, 5509.20it/s]\n"
     ]
    },
    {
     "name": "stdout",
     "output_type": "stream",
     "text": [
      "[2158   82  179]\n",
      "subsequence\n"
     ]
    },
    {
     "name": "stderr",
     "output_type": "stream",
     "text": [
      "100%|██████████| 1346/1346 [00:00<00:00, 5563.00it/s]\n"
     ]
    },
    {
     "name": "stdout",
     "output_type": "stream",
     "text": [
      "[1274   39   33]\n",
      "constituent\n"
     ]
    },
    {
     "name": "stderr",
     "output_type": "stream",
     "text": [
      "100%|██████████| 1062/1062 [00:00<00:00, 5644.91it/s]"
     ]
    },
    {
     "name": "stdout",
     "output_type": "stream",
     "text": [
      "[1004   36   22]\n"
     ]
    },
    {
     "name": "stderr",
     "output_type": "stream",
     "text": [
      "\n"
     ]
    }
   ],
   "source": [
    "for key in concept_indices:\n",
    "    idc = concept_indices[key]\n",
    "    print(key)\n",
    "    labs = [mnli_dataset[i]['label'] for i in tqdm(idc)]\n",
    "    print(np.bincount(labs))"
   ]
  },
  {
   "cell_type": "code",
   "execution_count": 18,
   "metadata": {},
   "outputs": [],
   "source": [
    "\n",
    "from oleace.datasets.hans import HANSDataset\n",
    "from collections import Counter\n",
    "\n",
    "from pathlib import Path"
   ]
  },
  {
   "cell_type": "code",
   "execution_count": 13,
   "metadata": {},
   "outputs": [
    {
     "name": "stderr",
     "output_type": "stream",
     "text": [
      "Processing HANS dataset:   0%|          | 0/30000 [00:00<?, ?examples/s]"
     ]
    },
    {
     "name": "stderr",
     "output_type": "stream",
     "text": [
      "                                                                                      \r"
     ]
    }
   ],
   "source": [
    "hans_train = HANSDataset(split=\"train\", data_dir=Path.cwd() / \"data/hans\")"
   ]
  },
  {
   "cell_type": "code",
   "execution_count": 21,
   "metadata": {},
   "outputs": [
    {
     "name": "stdout",
     "output_type": "stream",
     "text": [
      "(1, 'lexical_overlap'): 5000\n",
      "(0, 'lexical_overlap'): 5000\n",
      "(1, 'subsequence'): 5000\n",
      "(0, 'subsequence'): 5000\n",
      "(1, 'constituent'): 5000\n",
      "(0, 'constituent'): 5000\n"
     ]
    }
   ],
   "source": [
    "label_counts = Counter()\n",
    "for example in hans_train:\n",
    "    label = (example['labels'], example['heuristic'])\n",
    "    label_counts[label] += 1\n",
    "\n",
    "for label, count in label_counts.items():\n",
    "    print(f\"{label}: {count}\")\n"
   ]
  },
  {
   "cell_type": "code",
   "execution_count": 23,
   "metadata": {},
   "outputs": [
    {
     "data": {
      "text/plain": [
       "8.268199233716475"
      ]
     },
     "execution_count": 23,
     "metadata": {},
     "output_type": "execute_result"
    }
   ],
   "source": [
    "2158/(179+82)"
   ]
  }
 ],
 "metadata": {
  "kernelspec": {
   "display_name": "base",
   "language": "python",
   "name": "python3"
  },
  "language_info": {
   "codemirror_mode": {
    "name": "ipython",
    "version": 3
   },
   "file_extension": ".py",
   "mimetype": "text/x-python",
   "name": "python",
   "nbconvert_exporter": "python",
   "pygments_lexer": "ipython3",
   "version": "3.11.5"
  }
 },
 "nbformat": 4,
 "nbformat_minor": 2
}
